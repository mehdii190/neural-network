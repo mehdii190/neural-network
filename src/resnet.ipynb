{
  "nbformat": 4,
  "nbformat_minor": 0,
  "metadata": {
    "colab": {
      "provenance": [],
      "authorship_tag": "ABX9TyPa9NYxxluCJduRgn9coB6p",
      "include_colab_link": true
    },
    "kernelspec": {
      "name": "python3",
      "display_name": "Python 3"
    },
    "language_info": {
      "name": "python"
    }
  },
  "cells": [
    {
      "cell_type": "markdown",
      "metadata": {
        "id": "view-in-github",
        "colab_type": "text"
      },
      "source": [
        "<a href=\"https://colab.research.google.com/github/mehdii190/neural-network/blob/main/src/resnet.ipynb\" target=\"_parent\"><img src=\"https://colab.research.google.com/assets/colab-badge.svg\" alt=\"Open In Colab\"/></a>"
      ]
    },
    {
      "cell_type": "code",
      "execution_count": 1,
      "metadata": {
        "id": "qvMQw2rNgWF9"
      },
      "outputs": [],
      "source": [
        "import torch\n",
        "import torch.nn as nn\n",
        "import torchvision\n",
        "import torchvision.transforms as transforms"
      ]
    },
    {
      "cell_type": "code",
      "source": [
        "device = torch.device(\"cuda\" if torch.cuda.is_available() else \"cpu\")\n",
        "\n",
        "\n",
        "num_epochs = 30\n",
        "batch_size = 100\n",
        "learning_rate = 0.001\n",
        "\n",
        "\n",
        "\n",
        "\n",
        "transform = transforms.Compose([\n",
        "    transforms.Pad(4),\n",
        "    transforms.RandomHorizontalFlip(),\n",
        "    transforms.RandomCrop(32),\n",
        "    transforms.ToTensor()\n",
        "])\n",
        "\n",
        "\n",
        "train_dataset = torchvision.datasets.CIFAR10(root = \"../../data/\",\n",
        "                                             train = True,\n",
        "                                             transform = transform,\n",
        "                                             download = True)\n",
        "\n",
        "\n",
        "test_dataset = torchvision.datasets.CIFAR10(root = \"../../data/\",\n",
        "                                             train = False,\n",
        "                                             transform = transforms.ToTensor())\n",
        "\n",
        "\n",
        "train_loader = torch.utils.data.DataLoader(dataset = train_dataset,\n",
        "                                           batch_size = batch_size,\n",
        "                                           shuffle = True)\n",
        "\n",
        "test_loader = torch.utils.data.DataLoader(dataset = train_dataset,\n",
        "                                           batch_size = batch_size,\n",
        "                                           shuffle = False)\n",
        "\n"
      ],
      "metadata": {
        "colab": {
          "base_uri": "https://localhost:8080/"
        },
        "id": "Mgo8mBM0hYWJ",
        "outputId": "5942c323-dd80-4dbe-ab65-ff6252277c58"
      },
      "execution_count": 2,
      "outputs": [
        {
          "output_type": "stream",
          "name": "stdout",
          "text": [
            "Downloading https://www.cs.toronto.edu/~kriz/cifar-10-python.tar.gz to ../../data/cifar-10-python.tar.gz\n"
          ]
        },
        {
          "output_type": "stream",
          "name": "stderr",
          "text": [
            "100%|██████████| 170498071/170498071 [00:04<00:00, 41203692.63it/s]\n"
          ]
        },
        {
          "output_type": "stream",
          "name": "stdout",
          "text": [
            "Extracting ../../data/cifar-10-python.tar.gz to ../../data/\n"
          ]
        }
      ]
    },
    {
      "cell_type": "code",
      "source": [
        "def conv3x3(in_channles, out_channles, stride = 1):\n",
        "  return nn.Conv2d(in_channles, out_channles, kernel_size= 3 , stride= stride, padding= 1 ,bias = False)\n",
        "\n",
        "\n",
        "class ResidualBlock(nn.Module):\n",
        "  def __init__(self, in_channles, out_channles, stride = 1 , downsampling = None):\n",
        "    super(ResidualBlock, self).__init__()\n",
        "    self.conv1 = conv3x3(in_channles, out_channles, stride)\n",
        "    self.bn1 = nn.BatchNorm2d(out_channles)\n",
        "    self.relu = nn.ReLU(inplace= True)\n",
        "    self.conv2 = conv3x3(in_channles, out_channles)\n",
        "    self.bn2 = nn.BatchNorm2d(out_channles)\n",
        "    self.downsampling = downsampling\n",
        "  def forward(self,x):\n",
        "    residual = x.clone()\n",
        "    out = self.conv1(x)\n",
        "    out = self.bn1(out)\n",
        "    out = self.relu(out)\n",
        "    out = self.conv2(out)\n",
        "    out = self.bn2(out)\n",
        "    if self.downsampling:\n",
        "      residual = self.downsampling(x)\n",
        "    out+= residual\n",
        "    out = self.relu(out)\n",
        "    return out"
      ],
      "metadata": {
        "id": "M-HupDv-lUxe"
      },
      "execution_count": 3,
      "outputs": []
    },
    {
      "cell_type": "code",
      "source": [
        "class ResNet(nn.Module):\n",
        "  def __init__(self,block,layers,num_classes = 10):\n",
        "    \"\"\"\n",
        "    layers will be a list = [2,2,2] \n",
        "    \"\"\"\n",
        "    super(ResNet,self).__init__()\n",
        "    self.in_channles = 16\n",
        "    self.conv = conv3x3(3,16)\n",
        "    self.bn = nn.BatchNorm2d(16)\n",
        "    self.relu = nn.ReLU(inplace=True)\n",
        "    self.layer1 = self.make_layer(block,16,layers[0],stride = 1)\n",
        "    self.layer2 = self.make_layer(block,32,layers[1],stride = 2)\n",
        "    self.layer3 = self.make_layer(block,64,layers[2],stride = 2)\n",
        "    self.avg_pool = nn.AvgPool(8)\n",
        "    self.fc = nn.Linear(64,num_classes)\n",
        "\n",
        "  def make_layer(self, block, out_channles , blocks, stride = 1 ):\n",
        "    downsampling = None\n",
        "    if self.in_channles != out_channles or stride != 1 :\n",
        "      downsampling = nn.Sequential(conv3x3(self.in_channles,out_channles, stride = stride),\n",
        "                                   nn.BatchNorm2d(out_channles))\n",
        "    residual_blocks = []\n",
        "    residual_blocks.append(block(self.in_channles,out_channles,stride = stride, downsampling =downsampling ))\n",
        "    self.in_channles = out_channles\n",
        "    residual_blocks.append(block(self.in_channles,out_channles))\n",
        "    return nn.Sequential(*residual_blocks)\n",
        "\n",
        "\n",
        "\n",
        "  def forward(self,x):\n",
        "    out = self.conv(x)\n",
        "    out = self.bn(out)\n",
        "    out = self.relu(out)\n",
        "    out = self.layer1(out)\n",
        "    out = self.layer2(out)\n",
        "    out = self.layer3(out)\n",
        "    out = self.avg_pool(out)\n",
        "    out = out.view(out.size(0),-1)\n",
        "    out = self.fc(out)\n",
        "    return out\n",
        "\n"
      ],
      "metadata": {
        "id": "ctg1Lj4Dq5qY"
      },
      "execution_count": 5,
      "outputs": []
    },
    {
      "cell_type": "code",
      "source": [
        "moodel = ResNet(ResidualBlock,[2,2,2]).to(device)"
      ],
      "metadata": {
        "id": "Y7366EiMvK3q"
      },
      "execution_count": null,
      "outputs": []
    }
  ]
}