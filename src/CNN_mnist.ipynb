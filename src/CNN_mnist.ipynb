{
  "nbformat": 4,
  "nbformat_minor": 0,
  "metadata": {
    "colab": {
      "provenance": [],
      "authorship_tag": "ABX9TyM3OsPZXQGnlpxKl5eDyGlA",
      "include_colab_link": true
    },
    "kernelspec": {
      "name": "python3",
      "display_name": "Python 3"
    },
    "language_info": {
      "name": "python"
    },
    "accelerator": "GPU",
    "gpuClass": "standard"
  },
  "cells": [
    {
      "cell_type": "markdown",
      "metadata": {
        "id": "view-in-github",
        "colab_type": "text"
      },
      "source": [
        "<a href=\"https://colab.research.google.com/github/mehdii190/neural-network/blob/main/src/CNN_mnist.ipynb\" target=\"_parent\"><img src=\"https://colab.research.google.com/assets/colab-badge.svg\" alt=\"Open In Colab\"/></a>"
      ]
    },
    {
      "cell_type": "markdown",
      "source": [
        "## ***importing***"
      ],
      "metadata": {
        "id": "J9KWfHkoBZPs"
      }
    },
    {
      "cell_type": "code",
      "execution_count": 185,
      "metadata": {
        "id": "f7teT9C-ArK_"
      },
      "outputs": [],
      "source": [
        "import numpy as np\n",
        "import pandas as pd\n",
        "import torch\n",
        "import torch.nn as nn\n",
        "import torchvision.transforms as transforms\n",
        "import torchvision.datasets as db"
      ]
    },
    {
      "cell_type": "code",
      "source": [
        "mean_gray = 0.1307\n",
        "stddev_gray = 0.3081\n",
        "\n",
        "# input [channel] = (input[channel] -mean[channel])  /std[channel] \n",
        "\n",
        "transform = transforms.Compose([transforms.ToTensor(),transforms.Normalize((mean_gray,),(stddev_gray))])\n"
      ],
      "metadata": {
        "id": "9rmnuHazBgqt"
      },
      "execution_count": 186,
      "outputs": []
    },
    {
      "cell_type": "code",
      "source": [
        "#train_dataset = db.MNIST(root = \"data\", train = True , transform = transforms, download = True)\n",
        "\n",
        "#test_dataset = db.MNIST(root = \"data\",train = False,transform = transforms, download = True)"
      ],
      "metadata": {
        "id": "wgCUjM5TDQyW"
      },
      "execution_count": 187,
      "outputs": []
    },
    {
      "cell_type": "code",
      "source": [
        "batch_size = 100\n",
        "\n",
        "#train_load = torch.utils.data.DataLoader(dataset=train_dataset,batch_size=batch_size,shuffle=True)\n",
        "#test_load = torch.utils.data.DataLoader(dataset=test_dataset,batch_size=batch_size,shuffle=False)\n",
        "\n",
        "\n",
        "train_loader = torch.utils.data.DataLoader(\n",
        "    db.MNIST('data', train=True, download=True, transform=transform),\n",
        "    batch_size=batch_size, shuffle=True)"
      ],
      "metadata": {
        "id": "-odhQv8zEks7"
      },
      "execution_count": 188,
      "outputs": []
    },
    {
      "cell_type": "code",
      "source": [
        "test_loader = torch.utils.data.DataLoader(\n",
        "    db.MNIST('data', train=False, transform=transform),\n",
        "    batch_size=1000)"
      ],
      "metadata": {
        "id": "ZCgMtAH45yFC"
      },
      "execution_count": 189,
      "outputs": []
    },
    {
      "cell_type": "code",
      "source": [
        "len(test_loader)"
      ],
      "metadata": {
        "colab": {
          "base_uri": "https://localhost:8080/"
        },
        "id": "RhIj5JRMhjpM",
        "outputId": "af762e12-f637-4100-d6fd-6cdbbcc3775f"
      },
      "execution_count": 190,
      "outputs": [
        {
          "output_type": "execute_result",
          "data": {
            "text/plain": [
              "10"
            ]
          },
          "metadata": {},
          "execution_count": 190
        }
      ]
    },
    {
      "cell_type": "code",
      "source": [
        "class CNN(nn.Module):\n",
        "  def __init__(self):\n",
        "    super().__init__()\n",
        "    self.cnn1 = nn.Conv2d(in_channels= 1 , out_channels= 8 , kernel_size=3,stride=1,padding = 1)\n",
        "    self.batchnorm1 = nn.BatchNorm2d(8)\n",
        "    self.relu = nn.ReLU()\n",
        "    self.maxpool = nn.MaxPool2d(kernel_size=2)\n",
        "    self.cnn2 = nn.Conv2d(in_channels= 8 , out_channels= 32 , kernel_size=5,stride=1,padding = 2)\n",
        "    self.batchnorm2 = nn.BatchNorm2d(32)\n",
        "    self.fc1 = nn.Linear(1568,600)\n",
        "    self.dropout = nn.Dropout(p=0.5)\n",
        "    self.fc2 = nn.Linear(600,10)\n",
        "\n",
        "  def forward(self,x):\n",
        "    out = self.cnn1(x)\n",
        "    out = self.batchnorm1(out)\n",
        "    out = self.relu(out)\n",
        "    out = self.maxpool(out)\n",
        "    out = self.cnn2(out)\n",
        "    out = self.batchnorm2(out)\n",
        "    out = self.relu(out)\n",
        "    out = self.maxpool(out)\n",
        "\n",
        "    #  flatten the 32 feature maps from max pool to feed it to the fc1 \n",
        "    out = out.view(-1,1568)\n",
        "    #then we forward through our fully conn layer\n",
        "    out = self.fc1(out)\n",
        "    out = self.relu(out)\n",
        "    out = self.dropout(out)\n",
        "    out = self.fc2(out)\n",
        "\n",
        "    return out"
      ],
      "metadata": {
        "id": "hbFiIUD1hqGX"
      },
      "execution_count": 191,
      "outputs": []
    },
    {
      "cell_type": "code",
      "source": [
        "torch.cuda.is_available()"
      ],
      "metadata": {
        "colab": {
          "base_uri": "https://localhost:8080/"
        },
        "id": "BAfWYNiomOv4",
        "outputId": "2db59644-f37f-4c2b-cf70-013d5a1063dc"
      },
      "execution_count": 192,
      "outputs": [
        {
          "output_type": "execute_result",
          "data": {
            "text/plain": [
              "True"
            ]
          },
          "metadata": {},
          "execution_count": 192
        }
      ]
    },
    {
      "cell_type": "code",
      "source": [
        "model = CNN()\n",
        "\n",
        "CUDA = torch.cuda.is_available()\n",
        "\n",
        "if CUDA:\n",
        "  model = model.cuda()\n",
        "\n",
        "\n",
        "\n",
        "loss_fn = nn.CrossEntropyLoss()\n",
        "optimizer = torch.optim.Adam(model.parameters(),lr=0.01)"
      ],
      "metadata": {
        "id": "4vznInt1s-eu"
      },
      "execution_count": 193,
      "outputs": []
    },
    {
      "cell_type": "code",
      "source": [
        "iteration = 0\n",
        "correct = 0\n",
        "\n",
        "\n",
        "\n",
        "for i,(input,labels) in enumerate(train_loader):\n",
        "\n",
        "  if CUDA:\n",
        "    input = input.cuda()\n",
        "    labels = labels.cuda()\n",
        "\n",
        "\n",
        "  print(\"input shape : \",input.shape)\n",
        "  print(\"labels shape : \",labels.shape)\n",
        "\n",
        "  output = model(input)\n",
        "  print(\"output shape : \",output.shape )\n",
        "\n",
        "  _ , pred = torch.max(output,1)\n",
        "  print(\"pred shape : \",pred.shape)\n",
        "  print(\"predicten: \")\n",
        "  print(pred)\n",
        "  correct += (pred==labels).sum()\n",
        "  break"
      ],
      "metadata": {
        "colab": {
          "base_uri": "https://localhost:8080/"
        },
        "id": "by8u_NQPudfY",
        "outputId": "6a3547ea-63dc-43a5-e82b-0bd87801bdf5"
      },
      "execution_count": 194,
      "outputs": [
        {
          "output_type": "stream",
          "name": "stdout",
          "text": [
            "input shape :  torch.Size([100, 1, 28, 28])\n",
            "labels shape :  torch.Size([100])\n",
            "output shape :  torch.Size([100, 10])\n",
            "pred shape :  torch.Size([100])\n",
            "predicten: \n",
            "tensor([3, 3, 5, 3, 3, 3, 3, 3, 8, 3, 3, 3, 2, 3, 2, 3, 5, 3, 2, 3, 3, 3, 3, 5,\n",
            "        1, 2, 3, 3, 3, 3, 7, 3, 3, 3, 3, 2, 8, 3, 3, 2, 1, 3, 8, 3, 3, 3, 5, 2,\n",
            "        9, 3, 3, 8, 3, 3, 3, 3, 5, 3, 3, 3, 3, 3, 5, 3, 3, 3, 3, 3, 3, 3, 2, 8,\n",
            "        3, 3, 9, 3, 3, 3, 3, 3, 3, 3, 1, 3, 3, 3, 2, 3, 2, 3, 3, 3, 1, 1, 3, 2,\n",
            "        3, 5, 3, 3], device='cuda:0')\n"
          ]
        }
      ]
    },
    {
      "cell_type": "code",
      "source": [
        "num_epochs = 10\n",
        "train_loss = []\n",
        "train_acc = []\n",
        "test_loss = []\n",
        "test_acc = []\n",
        "\n",
        "\n",
        "for epoch in range(num_epochs):\n",
        "\n",
        "  correct = 0.0\n",
        "  iteration = 0.0\n",
        "  iter_loss = 0.0\n",
        "\n",
        "  model.train()\n",
        "\n",
        "  for i ,(inputs,labels) in enumerate(train_loader):\n",
        "\n",
        "    if CUDA:\n",
        "      inputs = inputs.cuda()\n",
        "      labels = labels.cuda()\n",
        "\n",
        "    output = model(inputs)\n",
        "    loss = loss_fn(output,labels)\n",
        "    iter_loss += loss.item()\n",
        "\n",
        "    optimizer.zero_grad()\n",
        "    loss.backward()\n",
        "    optimizer.step()\n",
        "\n",
        "    _ , pred = torch.max(output,1)\n",
        "    correct += (pred==labels).sum().item()\n",
        "    iteration += 1\n",
        "  \n",
        "  train_loss.append(iter_loss / iteration)\n",
        "  train_acc.append(100*correct / len(train_loader.dataset))\n",
        "\n",
        "  ############## TEST ##############\n",
        "\n",
        "  test_losss = 0.0\n",
        "  correct = 0.0\n",
        "  iteration = 0.0\n",
        "  \n",
        "  model.eval()\n",
        "\n",
        "  for i ,(inputs,labels) in enumerate(test_loader):\n",
        "\n",
        "    if CUDA:\n",
        "      inputs = inputs.cuda()\n",
        "      labels = labels.cuda()\n",
        "\n",
        "    output = model(inputs)\n",
        "    loss = loss_fn(output,labels)\n",
        "    test_losss += loss.item()\n",
        "\n",
        "    _ , pred = torch.max(output,1)\n",
        "    correct += (pred==labels).sum().item()\n",
        "    iteration += 1\n",
        "\n",
        "  test_loss.append(test_losss / iteration)\n",
        "  test_acc.append(100*correct / len(test_loader.dataset))\n",
        "\n",
        "\n",
        "  print(\"Epoch {}/{} , Training Loss : {:.3f} , Training accuracy : {:.3f} , Testing Loss : {:.3f} ,Testing accuracy : {:.3f}\".format(\n",
        "      epoch+1,num_epochs,train_loss[-1],train_acc[-1],test_loss[-1],test_acc[-1]))\n",
        "\n",
        "\n"
      ],
      "metadata": {
        "colab": {
          "base_uri": "https://localhost:8080/"
        },
        "id": "KDTNsNgi6IkW",
        "outputId": "8dbd769e-8dc0-4d4a-ffa1-7e64a82a4b1e"
      },
      "execution_count": 195,
      "outputs": [
        {
          "output_type": "stream",
          "name": "stdout",
          "text": [
            "Epoch 1/10 , Training Loss : 0.976 , Training accuracy : 68.852 , Testing Loss : 0.089 ,Testing accuracy : 97.340\n",
            "Epoch 2/10 , Training Loss : 0.305 , Training accuracy : 89.763 , Testing Loss : 0.060 ,Testing accuracy : 98.140\n",
            "Epoch 3/10 , Training Loss : 0.151 , Training accuracy : 95.410 , Testing Loss : 0.041 ,Testing accuracy : 98.690\n",
            "Epoch 4/10 , Training Loss : 0.105 , Training accuracy : 96.827 , Testing Loss : 0.036 ,Testing accuracy : 98.940\n",
            "Epoch 5/10 , Training Loss : 0.089 , Training accuracy : 97.377 , Testing Loss : 0.039 ,Testing accuracy : 98.900\n",
            "Epoch 6/10 , Training Loss : 0.079 , Training accuracy : 97.685 , Testing Loss : 0.037 ,Testing accuracy : 98.990\n",
            "Epoch 7/10 , Training Loss : 0.071 , Training accuracy : 97.930 , Testing Loss : 0.044 ,Testing accuracy : 98.820\n",
            "Epoch 8/10 , Training Loss : 0.068 , Training accuracy : 97.998 , Testing Loss : 0.040 ,Testing accuracy : 98.860\n",
            "Epoch 9/10 , Training Loss : 0.064 , Training accuracy : 98.110 , Testing Loss : 0.039 ,Testing accuracy : 98.980\n",
            "Epoch 10/10 , Training Loss : 0.058 , Training accuracy : 98.248 , Testing Loss : 0.043 ,Testing accuracy : 98.840\n"
          ]
        }
      ]
    },
    {
      "cell_type": "code",
      "source": [
        "import matplotlib.pyplot as plt\n",
        "\n",
        "f = plt.figure(figsize=(6,6))\n",
        "\n",
        "plt.plot(train_loss,label = \"Training Loss\")\n",
        "plt.plot(test_loss,label = \"Testing Loss\")\n",
        "plt.legend()\n",
        "plt.show()"
      ],
      "metadata": {
        "colab": {
          "base_uri": "https://localhost:8080/",
          "height": 522
        },
        "id": "-UkW91GXOwMp",
        "outputId": "b2bc2492-7e27-4cdb-f9ef-62716ac7e390"
      },
      "execution_count": 196,
      "outputs": [
        {
          "output_type": "display_data",
          "data": {
            "text/plain": [
              "<Figure size 600x600 with 1 Axes>"
            ],
            "image/png": "[encoded data removed]"
          },
          "metadata": {}
        }
      ]
    },
    {
      "cell_type": "code",
      "source": [
        "f = plt.figure(figsize=(6,6))\n",
        "\n",
        "plt.plot(np.arange(len(train_loss)), train_acc,label = \"Training acc\")\n",
        "plt.plot(np.arange(len(test_loss)), test_acc,label = \"Testing acc\")\n",
        "plt.legend()\n",
        "plt.show()"
      ],
      "metadata": {
        "colab": {
          "base_uri": "https://localhost:8080/",
          "height": 522
        },
        "id": "OtDIktvHc8vf",
        "outputId": "b44b3e24-bd30-4b75-c1c8-ae9e8e49f3c3"
      },
      "execution_count": 197,
      "outputs": [
        {
          "output_type": "display_data",
          "data": {
            "text/plain": [
              "<Figure size 600x600 with 1 Axes>"
            ],
            "image/png": "[encoded data removed]"
          },
          "metadata": {}
        }
      ]
    },
    {
      "cell_type": "code",
      "source": [
        "img = test_loader.dataset[30][0].numpy() * stddev_gray + mean_gray #.resize_((1,1,28,28))\n",
        "\n",
        "plt.imshow(img.reshape(28,28),cmap=\"gray\")"
      ],
      "metadata": {
        "colab": {
          "base_uri": "https://localhost:8080/",
          "height": 448
        },
        "id": "es-OaWcPf6gA",
        "outputId": "16b919d4-8e27-480d-be11-557dc83da031"
      },
      "execution_count": 198,
      "outputs": [
        {
          "output_type": "execute_result",
          "data": {
            "text/plain": [
              "<matplotlib.image.AxesImage at 0x7f54a045b760>"
            ]
          },
          "metadata": {},
          "execution_count": 198
        },
        {
          "output_type": "display_data",
          "data": {
            "text/plain": [
              "<Figure size 640x480 with 1 Axes>"
            ],
            "image/png": "[encoded data removed]"
          },
          "metadata": {}
        }
      ]
    },
    {
      "cell_type": "code",
      "source": [
        "imgg = test_loader.dataset[30][0].resize_((1,1,28,28))\n",
        "label = test_loader.dataset[30][1]\n",
        "\n",
        "model.eval()\n",
        "\n",
        "if CUDA:\n",
        "  model = model.cuda\n",
        "  imgg = imgg.cuda\n",
        "\n",
        "outputs = model(imgg)\n",
        "\n",
        "_ , pred = torch.max(outputs,1)\n",
        "\n",
        "print(\"predicten is : {} \".format(pred.item()))\n",
        "print(\"actual is : {} \".format(label))"
      ],
      "metadata": {
        "colab": {
          "base_uri": "https://localhost:8080/",
          "height": 415
        },
        "id": "n3s0fTFdhwsk",
        "outputId": "c15a91ee-9c02-46dc-d063-f4c52deb297d"
      },
      "execution_count": 199,
      "outputs": [
        {
          "output_type": "error",
          "ename": "TypeError",
          "evalue": "ignored",
          "traceback": [
            "\u001b[0;31m---------------------------------------------------------------------------\u001b[0m",
            "\u001b[0;31mTypeError\u001b[0m                                 Traceback (most recent call last)",
            "\u001b[0;32m<ipython-input-199-5e747ae7cd5a>\u001b[0m in \u001b[0;36m<cell line: 10>\u001b[0;34m()\u001b[0m\n\u001b[1;32m      8\u001b[0m   \u001b[0mimgg\u001b[0m \u001b[0;34m=\u001b[0m \u001b[0mimgg\u001b[0m\u001b[0;34m.\u001b[0m\u001b[0mcuda\u001b[0m\u001b[0;34m\u001b[0m\u001b[0;34m\u001b[0m\u001b[0m\n\u001b[1;32m      9\u001b[0m \u001b[0;34m\u001b[0m\u001b[0m\n\u001b[0;32m---> 10\u001b[0;31m \u001b[0moutputs\u001b[0m \u001b[0;34m=\u001b[0m \u001b[0mmodel\u001b[0m\u001b[0;34m(\u001b[0m\u001b[0mimgg\u001b[0m\u001b[0;34m)\u001b[0m\u001b[0;34m\u001b[0m\u001b[0;34m\u001b[0m\u001b[0m\n\u001b[0m\u001b[1;32m     11\u001b[0m \u001b[0;34m\u001b[0m\u001b[0m\n\u001b[1;32m     12\u001b[0m \u001b[0m_\u001b[0m \u001b[0;34m,\u001b[0m \u001b[0mpred\u001b[0m \u001b[0;34m=\u001b[0m \u001b[0mtorch\u001b[0m\u001b[0;34m.\u001b[0m\u001b[0mmax\u001b[0m\u001b[0;34m(\u001b[0m\u001b[0moutputs\u001b[0m\u001b[0;34m,\u001b[0m\u001b[0;36m1\u001b[0m\u001b[0;34m)\u001b[0m\u001b[0;34m\u001b[0m\u001b[0;34m\u001b[0m\u001b[0m\n",
            "\u001b[0;32m/usr/local/lib/python3.9/dist-packages/torch/nn/modules/module.py\u001b[0m in \u001b[0;36mcuda\u001b[0;34m(self, device)\u001b[0m\n\u001b[1;32m    903\u001b[0m             \u001b[0mModule\u001b[0m\u001b[0;34m:\u001b[0m \u001b[0mself\u001b[0m\u001b[0;34m\u001b[0m\u001b[0;34m\u001b[0m\u001b[0m\n\u001b[1;32m    904\u001b[0m         \"\"\"\n\u001b[0;32m--> 905\u001b[0;31m         \u001b[0;32mreturn\u001b[0m \u001b[0mself\u001b[0m\u001b[0;34m.\u001b[0m\u001b[0m_apply\u001b[0m\u001b[0;34m(\u001b[0m\u001b[0;32mlambda\u001b[0m \u001b[0mt\u001b[0m\u001b[0;34m:\u001b[0m \u001b[0mt\u001b[0m\u001b[0;34m.\u001b[0m\u001b[0mcuda\u001b[0m\u001b[0;34m(\u001b[0m\u001b[0mdevice\u001b[0m\u001b[0;34m)\u001b[0m\u001b[0;34m)\u001b[0m\u001b[0;34m\u001b[0m\u001b[0;34m\u001b[0m\u001b[0m\n\u001b[0m\u001b[1;32m    906\u001b[0m \u001b[0;34m\u001b[0m\u001b[0m\n\u001b[1;32m    907\u001b[0m     \u001b[0;32mdef\u001b[0m \u001b[0mipu\u001b[0m\u001b[0;34m(\u001b[0m\u001b[0mself\u001b[0m\u001b[0;34m:\u001b[0m \u001b[0mT\u001b[0m\u001b[0;34m,\u001b[0m \u001b[0mdevice\u001b[0m\u001b[0;34m:\u001b[0m \u001b[0mOptional\u001b[0m\u001b[0;34m[\u001b[0m\u001b[0mUnion\u001b[0m\u001b[0;34m[\u001b[0m\u001b[0mint\u001b[0m\u001b[0;34m,\u001b[0m \u001b[0mdevice\u001b[0m\u001b[0;34m]\u001b[0m\u001b[0;34m]\u001b[0m \u001b[0;34m=\u001b[0m \u001b[0;32mNone\u001b[0m\u001b[0;34m)\u001b[0m \u001b[0;34m->\u001b[0m \u001b[0mT\u001b[0m\u001b[0;34m:\u001b[0m\u001b[0;34m\u001b[0m\u001b[0;34m\u001b[0m\u001b[0m\n",
            "\u001b[0;32m/usr/local/lib/python3.9/dist-packages/torch/nn/modules/module.py\u001b[0m in \u001b[0;36m_apply\u001b[0;34m(self, fn)\u001b[0m\n\u001b[1;32m    795\u001b[0m     \u001b[0;32mdef\u001b[0m \u001b[0m_apply\u001b[0m\u001b[0;34m(\u001b[0m\u001b[0mself\u001b[0m\u001b[0;34m,\u001b[0m \u001b[0mfn\u001b[0m\u001b[0;34m)\u001b[0m\u001b[0;34m:\u001b[0m\u001b[0;34m\u001b[0m\u001b[0;34m\u001b[0m\u001b[0m\n\u001b[1;32m    796\u001b[0m         \u001b[0;32mfor\u001b[0m \u001b[0mmodule\u001b[0m \u001b[0;32min\u001b[0m \u001b[0mself\u001b[0m\u001b[0;34m.\u001b[0m\u001b[0mchildren\u001b[0m\u001b[0;34m(\u001b[0m\u001b[0;34m)\u001b[0m\u001b[0;34m:\u001b[0m\u001b[0;34m\u001b[0m\u001b[0;34m\u001b[0m\u001b[0m\n\u001b[0;32m--> 797\u001b[0;31m             \u001b[0mmodule\u001b[0m\u001b[0;34m.\u001b[0m\u001b[0m_apply\u001b[0m\u001b[0;34m(\u001b[0m\u001b[0mfn\u001b[0m\u001b[0;34m)\u001b[0m\u001b[0;34m\u001b[0m\u001b[0;34m\u001b[0m\u001b[0m\n\u001b[0m\u001b[1;32m    798\u001b[0m \u001b[0;34m\u001b[0m\u001b[0m\n\u001b[1;32m    799\u001b[0m         \u001b[0;32mdef\u001b[0m \u001b[0mcompute_should_use_set_data\u001b[0m\u001b[0;34m(\u001b[0m\u001b[0mtensor\u001b[0m\u001b[0;34m,\u001b[0m \u001b[0mtensor_applied\u001b[0m\u001b[0;34m)\u001b[0m\u001b[0;34m:\u001b[0m\u001b[0;34m\u001b[0m\u001b[0;34m\u001b[0m\u001b[0m\n",
            "\u001b[0;32m/usr/local/lib/python3.9/dist-packages/torch/nn/modules/module.py\u001b[0m in \u001b[0;36m_apply\u001b[0;34m(self, fn)\u001b[0m\n\u001b[1;32m    818\u001b[0m             \u001b[0;31m# `with torch.no_grad():`\u001b[0m\u001b[0;34m\u001b[0m\u001b[0;34m\u001b[0m\u001b[0m\n\u001b[1;32m    819\u001b[0m             \u001b[0;32mwith\u001b[0m \u001b[0mtorch\u001b[0m\u001b[0;34m.\u001b[0m\u001b[0mno_grad\u001b[0m\u001b[0;34m(\u001b[0m\u001b[0;34m)\u001b[0m\u001b[0;34m:\u001b[0m\u001b[0;34m\u001b[0m\u001b[0;34m\u001b[0m\u001b[0m\n\u001b[0;32m--> 820\u001b[0;31m                 \u001b[0mparam_applied\u001b[0m \u001b[0;34m=\u001b[0m \u001b[0mfn\u001b[0m\u001b[0;34m(\u001b[0m\u001b[0mparam\u001b[0m\u001b[0;34m)\u001b[0m\u001b[0;34m\u001b[0m\u001b[0;34m\u001b[0m\u001b[0m\n\u001b[0m\u001b[1;32m    821\u001b[0m             \u001b[0mshould_use_set_data\u001b[0m \u001b[0;34m=\u001b[0m \u001b[0mcompute_should_use_set_data\u001b[0m\u001b[0;34m(\u001b[0m\u001b[0mparam\u001b[0m\u001b[0;34m,\u001b[0m \u001b[0mparam_applied\u001b[0m\u001b[0;34m)\u001b[0m\u001b[0;34m\u001b[0m\u001b[0;34m\u001b[0m\u001b[0m\n\u001b[1;32m    822\u001b[0m             \u001b[0;32mif\u001b[0m \u001b[0mshould_use_set_data\u001b[0m\u001b[0;34m:\u001b[0m\u001b[0;34m\u001b[0m\u001b[0;34m\u001b[0m\u001b[0m\n",
            "\u001b[0;32m/usr/local/lib/python3.9/dist-packages/torch/nn/modules/module.py\u001b[0m in \u001b[0;36m<lambda>\u001b[0;34m(t)\u001b[0m\n\u001b[1;32m    903\u001b[0m             \u001b[0mModule\u001b[0m\u001b[0;34m:\u001b[0m \u001b[0mself\u001b[0m\u001b[0;34m\u001b[0m\u001b[0;34m\u001b[0m\u001b[0m\n\u001b[1;32m    904\u001b[0m         \"\"\"\n\u001b[0;32m--> 905\u001b[0;31m         \u001b[0;32mreturn\u001b[0m \u001b[0mself\u001b[0m\u001b[0;34m.\u001b[0m\u001b[0m_apply\u001b[0m\u001b[0;34m(\u001b[0m\u001b[0;32mlambda\u001b[0m \u001b[0mt\u001b[0m\u001b[0;34m:\u001b[0m \u001b[0mt\u001b[0m\u001b[0;34m.\u001b[0m\u001b[0mcuda\u001b[0m\u001b[0;34m(\u001b[0m\u001b[0mdevice\u001b[0m\u001b[0;34m)\u001b[0m\u001b[0;34m)\u001b[0m\u001b[0;34m\u001b[0m\u001b[0;34m\u001b[0m\u001b[0m\n\u001b[0m\u001b[1;32m    906\u001b[0m \u001b[0;34m\u001b[0m\u001b[0m\n\u001b[1;32m    907\u001b[0m     \u001b[0;32mdef\u001b[0m \u001b[0mipu\u001b[0m\u001b[0;34m(\u001b[0m\u001b[0mself\u001b[0m\u001b[0;34m:\u001b[0m \u001b[0mT\u001b[0m\u001b[0;34m,\u001b[0m \u001b[0mdevice\u001b[0m\u001b[0;34m:\u001b[0m \u001b[0mOptional\u001b[0m\u001b[0;34m[\u001b[0m\u001b[0mUnion\u001b[0m\u001b[0;34m[\u001b[0m\u001b[0mint\u001b[0m\u001b[0;34m,\u001b[0m \u001b[0mdevice\u001b[0m\u001b[0;34m]\u001b[0m\u001b[0;34m]\u001b[0m \u001b[0;34m=\u001b[0m \u001b[0;32mNone\u001b[0m\u001b[0;34m)\u001b[0m \u001b[0;34m->\u001b[0m \u001b[0mT\u001b[0m\u001b[0;34m:\u001b[0m\u001b[0;34m\u001b[0m\u001b[0;34m\u001b[0m\u001b[0m\n",
            "\u001b[0;31mTypeError\u001b[0m: cuda(): argument 'device' (position 1) must be torch.device, not builtin_function_or_method"
          ]
        }
      ]
    }
  ]
}