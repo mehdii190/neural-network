{
  "nbformat": 4,
  "nbformat_minor": 0,
  "metadata": {
    "colab": {
      "provenance": [],
      "authorship_tag": "ABX9TyMKHpFfqgfn8MKqQU7geVGZ",
      "include_colab_link": true
    },
    "kernelspec": {
      "name": "python3",
      "display_name": "Python 3"
    },
    "language_info": {
      "name": "python"
    },
    "accelerator": "GPU",
    "gpuClass": "standard"
  },
  "cells": [
    {
      "cell_type": "markdown",
      "metadata": {
        "id": "view-in-github",
        "colab_type": "text"
      },
      "source": [
        "<a href=\"https://colab.research.google.com/github/mehdii190/neural-network/blob/main/src/CNN_mnist.ipynb\" target=\"_parent\"><img src=\"https://colab.research.google.com/assets/colab-badge.svg\" alt=\"Open In Colab\"/></a>"
      ]
    },
    {
      "cell_type": "markdown",
      "source": [
        "## ***importing***"
      ],
      "metadata": {
        "id": "J9KWfHkoBZPs"
      }
    },
    {
      "cell_type": "code",
      "execution_count": 111,
      "metadata": {
        "id": "f7teT9C-ArK_"
      },
      "outputs": [],
      "source": [
        "import numpy as np\n",
        "import pandas as pd\n",
        "import torch\n",
        "import torch.nn as nn\n",
        "import torchvision.transforms as transforms\n",
        "import torchvision.datasets as db"
      ]
    },
    {
      "cell_type": "code",
      "source": [
        "mean_gray = 0.1307\n",
        "stddev_gray = 0.3081\n",
        "\n",
        "# input [channel] = (input[channel] -mean[channel])  /std[channel] \n",
        "\n",
        "transform = transforms.Compose([transforms.ToTensor(),transforms.Normalize((mean_gray,),(stddev_gray))])\n"
      ],
      "metadata": {
        "id": "9rmnuHazBgqt"
      },
      "execution_count": 112,
      "outputs": []
    },
    {
      "cell_type": "code",
      "source": [
        "#train_dataset = db.MNIST(root = \"data\", train = True , transform = transforms, download = True)\n",
        "\n",
        "#test_dataset = db.MNIST(root = \"data\",train = False,transform = transforms, download = True)"
      ],
      "metadata": {
        "id": "wgCUjM5TDQyW"
      },
      "execution_count": 113,
      "outputs": []
    },
    {
      "cell_type": "code",
      "source": [
        "batch_size = 100\n",
        "\n",
        "#train_load = torch.utils.data.DataLoader(dataset=train_dataset,batch_size=batch_size,shuffle=True)\n",
        "#test_load = torch.utils.data.DataLoader(dataset=test_dataset,batch_size=batch_size,shuffle=False)\n",
        "\n",
        "\n",
        "train_loader = torch.utils.data.DataLoader(\n",
        "    db.MNIST('data', train=True, download=True, transform=transform),\n",
        "    batch_size=batch_size, shuffle=True)"
      ],
      "metadata": {
        "id": "-odhQv8zEks7"
      },
      "execution_count": 114,
      "outputs": []
    },
    {
      "cell_type": "code",
      "source": [
        "test_loader = torch.utils.data.DataLoader(\n",
        "    db.MNIST('data', train=False, transform=transform),\n",
        "    batch_size=100)"
      ],
      "metadata": {
        "id": "ZCgMtAH45yFC"
      },
      "execution_count": 115,
      "outputs": []
    },
    {
      "cell_type": "code",
      "source": [
        "len(test_loader)"
      ],
      "metadata": {
        "colab": {
          "base_uri": "https://localhost:8080/"
        },
        "id": "RhIj5JRMhjpM",
        "outputId": "d808967d-13f8-412e-b739-20295f28f4dd"
      },
      "execution_count": 116,
      "outputs": [
        {
          "output_type": "execute_result",
          "data": {
            "text/plain": [
              "100"
            ]
          },
          "metadata": {},
          "execution_count": 116
        }
      ]
    },
    {
      "cell_type": "code",
      "source": [
        "class CNN(nn.Module):\n",
        "  def __init__(self):\n",
        "    super().__init__()\n",
        "    self.cnn1 = nn.Conv2d(in_channels= 1 , out_channels= 8 , kernel_size=3,stride=1,padding = 1)\n",
        "    self.batchnorm1 = nn.BatchNorm2d(8)\n",
        "    self.relu = nn.ReLU()\n",
        "    self.maxpool = nn.MaxPool2d(kernel_size=2)\n",
        "    self.cnn2 = nn.Conv2d(in_channels= 8 , out_channels= 32 , kernel_size=5,stride=1,padding = 2)\n",
        "    self.batchnorm2 = nn.BatchNorm2d(32)\n",
        "    self.fc1 = nn.Linear(1568,600)\n",
        "    self.dropout = nn.Dropout(p=0.5)\n",
        "    self.fc2 = nn.Linear(600,10)\n",
        "\n",
        "  def forward(self,x):\n",
        "    out = self.cnn1(x)\n",
        "    out = self.batchnorm1(out)\n",
        "    out = self.relu(out)\n",
        "    out = self.maxpool(out)\n",
        "    out = self.cnn2(out)\n",
        "    out = self.batchnorm2(out)\n",
        "    out = self.relu(out)\n",
        "    out = self.maxpool(out)\n",
        "\n",
        "    #  flatten the 32 feature maps from max pool to feed it to the fc1 \n",
        "    out = out.view(-1,1568)\n",
        "    #then we forward through our fully conn layer\n",
        "    out = self.fc1(out)\n",
        "    out = self.relu(out)\n",
        "    out = self.dropout(out)\n",
        "    out = self.fc2(out)\n",
        "\n",
        "    return out"
      ],
      "metadata": {
        "id": "hbFiIUD1hqGX"
      },
      "execution_count": 117,
      "outputs": []
    },
    {
      "cell_type": "code",
      "source": [
        "torch.cuda.is_available()"
      ],
      "metadata": {
        "colab": {
          "base_uri": "https://localhost:8080/"
        },
        "id": "BAfWYNiomOv4",
        "outputId": "4a7759fe-aba9-4162-db0d-edccbba4d1ab"
      },
      "execution_count": 118,
      "outputs": [
        {
          "output_type": "execute_result",
          "data": {
            "text/plain": [
              "True"
            ]
          },
          "metadata": {},
          "execution_count": 118
        }
      ]
    },
    {
      "cell_type": "code",
      "source": [
        "model = CNN()\n",
        "\n",
        "CUDA = torch.cuda.is_available()\n",
        "\n",
        "if CUDA:\n",
        "  model = model.cuda()\n",
        "\n",
        "\n",
        "\n",
        "loss_fn = nn.CrossEntropyLoss()\n",
        "optimizer = torch.optim.Adam(model.parameters(),lr=0.01)"
      ],
      "metadata": {
        "id": "4vznInt1s-eu"
      },
      "execution_count": 119,
      "outputs": []
    },
    {
      "cell_type": "code",
      "source": [
        "iteration = 0\n",
        "correct = 0\n",
        "\n",
        "\n",
        "\n",
        "for i,(input,labels) in enumerate(train_loader):\n",
        "\n",
        "  if CUDA:\n",
        "    input = input.cuda()\n",
        "    labels = labels.cuda()\n",
        "\n",
        "\n",
        "  print(\"input shape : \",input.shape)\n",
        "  print(\"labels shape : \",labels.shape)\n",
        "\n",
        "  output = model(input)\n",
        "  print(\"output shape : \",output.shape )\n",
        "\n",
        "  _ , pred = torch.max(output,1)\n",
        "  print(\"pred shape : \",pred.shape)\n",
        "  print(\"predicten: \")\n",
        "  print(pred)\n",
        "  correct += (pred==labels).sum()\n",
        "  break"
      ],
      "metadata": {
        "colab": {
          "base_uri": "https://localhost:8080/"
        },
        "id": "by8u_NQPudfY",
        "outputId": "2ec99b00-983a-4a6b-dffa-cdfb6349a8d7"
      },
      "execution_count": 120,
      "outputs": [
        {
          "output_type": "stream",
          "name": "stdout",
          "text": [
            "input shape :  torch.Size([100, 1, 28, 28])\n",
            "labels shape :  torch.Size([100])\n",
            "output shape :  torch.Size([100, 10])\n",
            "pred shape :  torch.Size([100])\n",
            "predicten: \n",
            "tensor([6, 6, 0, 9, 4, 6, 7, 4, 6, 4, 0, 6, 0, 1, 4, 6, 1, 9, 6, 6, 6, 1, 9, 6,\n",
            "        0, 0, 1, 6, 1, 6, 6, 6, 6, 6, 1, 1, 6, 9, 6, 6, 6, 0, 5, 0, 6, 6, 6, 0,\n",
            "        0, 2, 6, 6, 4, 6, 0, 6, 6, 0, 6, 5, 0, 9, 0, 6, 1, 1, 1, 6, 9, 1, 1, 6,\n",
            "        0, 1, 0, 6, 0, 1, 6, 6, 0, 0, 6, 0, 0, 5, 9, 8, 6, 5, 1, 6, 0, 6, 1, 1,\n",
            "        4, 1, 6, 6], device='cuda:0')\n"
          ]
        }
      ]
    },
    {
      "cell_type": "code",
      "source": [
        "num_epochs = 10\n",
        "train_loss = []\n",
        "train_acc = []\n",
        "test_loss = []\n",
        "test_acc = []\n",
        "\n",
        "\n",
        "for epoch in range(num_epochs):\n",
        "\n",
        "  correct = 0.0\n",
        "  iteration = 0.0\n",
        "  iter_loss = 0.0\n",
        "\n",
        "  model.train()\n",
        "\n",
        "  for i ,(inputs,labels) in enumerate(train_loader):\n",
        "\n",
        "    if CUDA:\n",
        "      inputs = inputs.cuda()\n",
        "      labels = labels.cuda()\n",
        "\n",
        "    output = model(inputs)\n",
        "    loss = loss_fn(output,labels)\n",
        "    iter_loss += loss.item()\n",
        "\n",
        "    optimizer.zero_grad()\n",
        "    loss.backward()\n",
        "    optimizer.step()\n",
        "\n",
        "    _ , pred = torch.max(output,1)\n",
        "    correct += (pred==labels).sum().item()\n",
        "    iteration += 1\n",
        "  \n",
        "  train_loss.append(iter_loss / iteration)\n",
        "  train_acc.append(100*correct / len(train_loader.dataset))\n",
        "\n",
        "  ############## TEST ##############\n",
        "\n",
        "  test_losss = 0.0\n",
        "  correct = 0.0\n",
        "  iteration = 0.0\n",
        "  \n",
        "  model.eval()\n",
        "\n",
        "  for i ,(inputs,labels) in enumerate(test_loader):\n",
        "\n",
        "    if CUDA:\n",
        "      inputs = inputs.cuda()\n",
        "      labels = labels.cuda()\n",
        "\n",
        "    output = model(inputs)\n",
        "    loss = loss_fn(output,labels)\n",
        "    test_losss += loss.item()\n",
        "\n",
        "    _ , pred = torch.max(output,1)\n",
        "    correct += (pred==labels).sum().item()\n",
        "    iteration += 1\n",
        "\n",
        "  test_loss.append(test_losss / iteration)\n",
        "  test_acc.append(100*correct / len(test_loader.dataset))\n",
        "\n",
        "\n",
        "  print(\"Epoch {}/{} , Training Loss : {:.3f} , Training accuracy : {:.3f} , Testing Loss : {:.3f} ,Testing accuracy : {:.3f}\".format(\n",
        "      epoch+1,num_epochs,train_loss[-1],train_acc[-1],test_loss[-1],test_acc[-1]))\n",
        "\n",
        "\n"
      ],
      "metadata": {
        "colab": {
          "base_uri": "https://localhost:8080/"
        },
        "id": "KDTNsNgi6IkW",
        "outputId": "d7180fd4-2003-4235-bae2-086024b7b228"
      },
      "execution_count": 121,
      "outputs": [
        {
          "output_type": "stream",
          "name": "stdout",
          "text": [
            "Epoch 1/10 , Training Loss : 0.510 , Training accuracy : 86.482 , Testing Loss : 0.066 ,Testing accuracy : 97.890\n",
            "Epoch 2/10 , Training Loss : 0.142 , Training accuracy : 95.720 , Testing Loss : 0.049 ,Testing accuracy : 98.660\n",
            "Epoch 3/10 , Training Loss : 0.105 , Training accuracy : 96.957 , Testing Loss : 0.035 ,Testing accuracy : 98.830\n",
            "Epoch 4/10 , Training Loss : 0.087 , Training accuracy : 97.437 , Testing Loss : 0.036 ,Testing accuracy : 98.960\n",
            "Epoch 5/10 , Training Loss : 0.077 , Training accuracy : 97.760 , Testing Loss : 0.037 ,Testing accuracy : 98.970\n",
            "Epoch 6/10 , Training Loss : 0.073 , Training accuracy : 97.883 , Testing Loss : 0.043 ,Testing accuracy : 98.900\n",
            "Epoch 7/10 , Training Loss : 0.068 , Training accuracy : 98.083 , Testing Loss : 0.036 ,Testing accuracy : 98.940\n",
            "Epoch 8/10 , Training Loss : 0.066 , Training accuracy : 98.132 , Testing Loss : 0.033 ,Testing accuracy : 99.000\n",
            "Epoch 9/10 , Training Loss : 0.057 , Training accuracy : 98.345 , Testing Loss : 0.043 ,Testing accuracy : 98.840\n",
            "Epoch 10/10 , Training Loss : 0.059 , Training accuracy : 98.338 , Testing Loss : 0.054 ,Testing accuracy : 98.940\n"
          ]
        }
      ]
    },
    {
      "cell_type": "code",
      "source": [
        "import matplotlib.pyplot as plt\n",
        "\n",
        "f = plt.figure(figsize=(6,6))\n",
        "\n",
        "plt.plot(train_loss,label = \"Training Loss\")\n",
        "plt.plot(test_loss,label = \"Testing Loss\")\n",
        "plt.legend()\n",
        "plt.show()"
      ],
      "metadata": {
        "colab": {
          "base_uri": "https://localhost:8080/",
          "height": 522
        },
        "id": "-UkW91GXOwMp",
        "outputId": "42547fc4-a613-44f7-84dc-a6309ee14587"
      },
      "execution_count": 122,
      "outputs": [
        {
          "output_type": "display_data",
          "data": {
            "text/plain": [
              "<Figure size 600x600 with 1 Axes>"
            ],
            "image/png": "[encoded data removed]"
          },
          "metadata": {}
        }
      ]
    },
    {
      "cell_type": "code",
      "source": [
        "f = plt.figure(figsize=(6,6))\n",
        "\n",
        "plt.plot(np.arange(len(train_loss)), train_acc,label = \"Training acc\")\n",
        "plt.plot(np.arange(len(test_loss)), test_acc,label = \"Testing acc\")\n",
        "plt.legend()\n",
        "plt.show()"
      ],
      "metadata": {
        "colab": {
          "base_uri": "https://localhost:8080/",
          "height": 522
        },
        "id": "OtDIktvHc8vf",
        "outputId": "857a1118-acd6-439e-a3ca-840a808c2700"
      },
      "execution_count": 123,
      "outputs": [
        {
          "output_type": "display_data",
          "data": {
            "text/plain": [
              "<Figure size 600x600 with 1 Axes>"
            ],
            "image/png": "[encoded data removed]"
          },
          "metadata": {}
        }
      ]
    },
    {
      "cell_type": "code",
      "source": [
        "img = test_loader.dataset[30][0].numpy() * stddev_gray + mean_gray #.resize_((1,1,28,28))\n",
        "\n",
        "plt.imshow(img.reshape(28,28),cmap=\"gray\")"
      ],
      "metadata": {
        "colab": {
          "base_uri": "https://localhost:8080/",
          "height": 448
        },
        "id": "es-OaWcPf6gA",
        "outputId": "3a4c89a4-2fe9-4ae7-db88-0795491f3940"
      },
      "execution_count": 124,
      "outputs": [
        {
          "output_type": "execute_result",
          "data": {
            "text/plain": [
              "<matplotlib.image.AxesImage at 0x7f1d4cd20c10>"
            ]
          },
          "metadata": {},
          "execution_count": 124
        },
        {
          "output_type": "display_data",
          "data": {
            "text/plain": [
              "<Figure size 640x480 with 1 Axes>"
            ],
            "image/png": "[encoded data removed]"
          },
          "metadata": {}
        }
      ]
    },
    {
      "cell_type": "code",
      "source": [
        "imgg = test_loader.dataset[30][0].resize_((1,1,28,28))\n",
        "label = test_loader.dataset[30][1]\n",
        "\n",
        "\n",
        "model = CNN()\n",
        "model.eval()\n",
        "\n",
        "if CUDA:\n",
        "\n",
        "  model = model.cuda()\n",
        "  imgg = imgg.cuda()\n",
        "\n",
        "outputs = model(imgg)\n",
        "\n",
        "_ , pred = torch.max(outputs,1)\n",
        "\n",
        "print(\"predict is : {} \".format(pred.item()))\n",
        "print(\"Actual is : {} \".format(label))"
      ],
      "metadata": {
        "colab": {
          "base_uri": "https://localhost:8080/"
        },
        "id": "n3s0fTFdhwsk",
        "outputId": "f1bbb22d-ab14-4f91-df9c-74aa672dc094"
      },
      "execution_count": 125,
      "outputs": [
        {
          "output_type": "stream",
          "name": "stdout",
          "text": [
            "predict is : 4 \n",
            "Actual is : 3 \n"
          ]
        }
      ]
    },
    {
      "cell_type": "code",
      "source": [
        "from google.colab.patches import cv2_imshow\n",
        "import cv2\n",
        "from PIL import Image\n",
        "from torch.autograd import Variable\n",
        "\n",
        "\n",
        "transform_img = transforms.Compose([transforms.Resize((28,28)),\n",
        "                                    transforms.ToTensor(),\n",
        "                                    transforms.Normalize((mean_gray,),(stddev_gray))])\n",
        "\n",
        "\n",
        "def predict(img_name,model):\n",
        "\n",
        "  image = cv2.imread(img_name,0)\n",
        "  ret , thresholded = cv2.threshold(image,127,255,cv2.THRESH_BINARY)\n",
        "  img = 255 - thresholded\n",
        "  #img = cv2.imshow(\"original\",img)\n",
        "  img2 = cv2_imshow(img)\n",
        "  #cv2.waitKey(0)\n",
        "  #cv2.destroyAllWindows()\n",
        "  img = Image.fromarray(img)\n",
        "  img = transform_img(img)\n",
        "  img = img.view(1,1,28,28)\n",
        "  img = Variable(img)\n",
        "\n",
        "  model.eval()\n",
        "\n",
        "  if torch.cuda.is_available():\n",
        "\n",
        "    model = model.cuda()\n",
        "    img = img.cuda()\n",
        "\n",
        "  output = model(img)\n",
        "  print(output)\n",
        "  print(output.data)\n",
        "\n",
        "  _ , pred = torch.max(output,1)\n",
        "  \n",
        "  return pred.item()\n"
      ],
      "metadata": {
        "id": "HBT7ZGu1IKht"
      },
      "execution_count": 126,
      "outputs": []
    },
    {
      "cell_type": "code",
      "source": [
        "predicts = predict(\"/content/image/photo_2023-04-20_00-53-01.jpg\",model)\n",
        "\n",
        "print(\"the predicted label is {}\".format(predicts))"
      ],
      "metadata": {
        "colab": {
          "base_uri": "https://localhost:8080/",
          "height": 1000
        },
        "id": "AyYxFFODLZV-",
        "outputId": "74ce6749-be8f-4c20-9a0c-7f1048f4308a"
      },
      "execution_count": 138,
      "outputs": [
        {
          "output_type": "display_data",
          "data": {
            "text/plain": [
              "<PIL.Image.Image image mode=L size=997x1280 at 0x7F1D81609F10>"
            ],
            "image/png": "[encoded data removed]"
          },
          "metadata": {}
        },
        {
          "output_type": "stream",
          "name": "stdout",
          "text": [
            "tensor([[-0.1858, -0.0011, -0.0323, -0.0731,  0.1491,  0.0838,  0.0098, -0.1738,\n",
            "          0.0841,  0.0949]], device='cuda:0', grad_fn=<AddmmBackward0>)\n",
            "tensor([[-0.1858, -0.0011, -0.0323, -0.0731,  0.1491,  0.0838,  0.0098, -0.1738,\n",
            "          0.0841,  0.0949]], device='cuda:0')\n",
            "the predicted label is 4\n"
          ]
        }
      ]
    }
  ]
}