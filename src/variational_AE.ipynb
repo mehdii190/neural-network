{
  "nbformat": 4,
  "nbformat_minor": 0,
  "metadata": {
    "colab": {
      "private_outputs": true,
      "provenance": [],
      "authorship_tag": "ABX9TyOsjAuFD0226O1UfEhjlxZm",
      "include_colab_link": true
    },
    "kernelspec": {
      "name": "python3",
      "display_name": "Python 3"
    },
    "language_info": {
      "name": "python"
    },
    "accelerator": "GPU",
    "gpuClass": "standard"
  },
  "cells": [
    {
      "cell_type": "markdown",
      "metadata": {
        "id": "view-in-github",
        "colab_type": "text"
      },
      "source": [
        "<a href=\"https://colab.research.google.com/github/mehdii190/neural-network/blob/main/src/variational_AE.ipynb\" target=\"_parent\"><img src=\"https://colab.research.google.com/assets/colab-badge.svg\" alt=\"Open In Colab\"/></a>"
      ]
    },
    {
      "cell_type": "code",
      "execution_count": null,
      "metadata": {
        "id": "A1QB_a-7sMYz"
      },
      "outputs": [],
      "source": [
        "import os\n",
        "import torch\n",
        "import torch.nn as nn\n",
        "import torchvision\n",
        "import torch.nn.functional as F\n",
        "from torchvision import transforms\n",
        "from torchvision.utils import save_image"
      ]
    },
    {
      "cell_type": "code",
      "source": [
        "device = torch.device(\"cuda\" if torch.cuda.is_available() else \"cpu\")"
      ],
      "metadata": {
        "id": "Zzi5KYF8tf3c"
      },
      "execution_count": null,
      "outputs": []
    },
    {
      "cell_type": "code",
      "source": [
        "device"
      ],
      "metadata": {
        "id": "T3ihABJMtvS5"
      },
      "execution_count": null,
      "outputs": []
    },
    {
      "cell_type": "code",
      "source": [
        "image_size = 28 * 28\n",
        "hidden_dim = 400\n",
        "latent_dim = 20\n",
        "batch_size = 128\n",
        "epochs = 10\n",
        "\n",
        "\n",
        "train_dataset = torchvision.datasets.MNIST(root = \"/data\",\n",
        "                                           train = True,\n",
        "                                           transform = transforms.ToTensor(),\n",
        "                                           download = True)\n",
        "\n",
        "test_dataset = torchvision.datasets.MNIST(root = \"/data\",\n",
        "                                           train = False,\n",
        "                                           transform = transforms.ToTensor())\n",
        "\n",
        "train_loader = torch.utils.data.DataLoader(dataset = train_dataset,\n",
        "                                           batch_size =batch_size,\n",
        "                                           shuffle = True)\n",
        "\n",
        "\n",
        "test_loader = torch.utils.data.DataLoader(dataset = test_dataset,\n",
        "                                           batch_size =batch_size,\n",
        "                                           shuffle = True)\n",
        "\n",
        "\n",
        "sample_dir = \"results\"\n",
        "if not os.path.exists(sample_dir):\n",
        "  os.makedirs(sample_dir)\n",
        "\n"
      ],
      "metadata": {
        "id": "byW39EPLt-8o"
      },
      "execution_count": null,
      "outputs": []
    },
    {
      "cell_type": "code",
      "source": [
        "#vae model\n",
        "\n",
        "\n",
        "class VAE(nn.Module):\n",
        "  def __init__(self):\n",
        "    super(VAE,self).__init__()\n",
        "\n",
        "    self.fc1 = nn.Linear(image_size, hidden_dim)\n",
        "    self.fc2_mean = nn.Linear(hidden_dim, latent_dim)\n",
        "    self.fc2_logvar = nn.Linear(hidden_dim, latent_dim)\n",
        "    self.fc3 = nn.Linear(latent_dim, hidden_dim)\n",
        "    self.fc4 = nn.Linear(hidden_dim, image_size)\n",
        "\n",
        "  def encode(self, x):\n",
        "    h = F.relu(self.fc1(x))\n",
        "    mu = self.fc2_mean(h)\n",
        "    log_var = self.fc2_logvar(h)\n",
        "    return mu , log_var\n",
        "  \n",
        "  def reparameterize(self, mu , logvar):\n",
        "    std = torch.exp(logvar/2)\n",
        "    eps = torch.randn_like(std)\n",
        "    return mu + eps * std\n",
        "\n",
        "  def decode(self, z):\n",
        "    h = F.relu(self.fc3(z))\n",
        "    out = torch.sigmoid(self.fc4(h))\n",
        "    return out\n",
        "\n",
        "  def forward(self, x):\n",
        "\n",
        "    # x : (batch size , 1,28,28) ==> (batch size, 784)\n",
        "\n",
        "    mu ,logvar= self.encode(x.view(-1,image_size))\n",
        "    z = self.reparameterize(mu, logvar)\n",
        "    recon = self.decode(z)\n",
        "    return  recon , mu , logvar\n",
        "\n",
        "\n",
        "\n",
        "model = VAE().to(device)\n",
        "optimizer = torch.optim.Adam(model.parameters(), lr = 1e-3)\n",
        "\n",
        "\n"
      ],
      "metadata": {
        "id": "Ekccnwsvwoi2"
      },
      "execution_count": null,
      "outputs": []
    },
    {
      "cell_type": "code",
      "source": [
        "model"
      ],
      "metadata": {
        "id": "E_NrT-AinQJk"
      },
      "execution_count": null,
      "outputs": []
    },
    {
      "cell_type": "code",
      "source": [
        "from io import open_code\n",
        "def loss_function(recon_image,original_image, mu, logvar):\n",
        "  bce = F.binary_cross_entropy(recon_image,original_image.view(-1,784),reduction=\"sum\")\n",
        "\n",
        "  k1d = 0.5 * torch.sum(logvar.exp()+ mu.pow(2) - 1 - logvar)\n",
        "\n",
        "  #####################\n",
        "\n",
        "  # logvar , exp = (batch size , 20)\n",
        "\n",
        "  #k1d = 0.5 * torch.sum(logvar.epx()+ mu.pow(2) - 1 - logvar, 1)\n",
        "  #k1d_sum = torch.sum(k1d)\n",
        "\n",
        "  #####################\n",
        "\n",
        "\n",
        "  return bce + k1d\n",
        "\n",
        "\n",
        "\n",
        "def train(epoch):\n",
        "\n",
        "  model.train()\n",
        "\n",
        "\n",
        "  train_loss = 0\n",
        "\n",
        "  for i , (image,_) in enumerate(train_loader):\n",
        "    images = image.to(device)\n",
        "    reconstructed , mu , logvar = model(images)\n",
        "    loss = loss_function(reconstructed, images , mu , logvar)\n",
        "    optimizer.zero_grad()\n",
        "    loss.backward()\n",
        "    train_loss += loss.item()\n",
        "    optimizer.step()\n",
        "\n",
        "    if i % 100 == 0:\n",
        "\n",
        "      print(\"train epoch {} [batch {}/{}]\\tLoss: {:.3f}\".format(epoch , i, len(train_loader),loss.item()/len(images)))\n",
        "\n",
        "  print(\"===> epoch {},average loss: {:.3f}\".format(epoch, train_loss/len(train_loader.dataset)))\n",
        "\n",
        "\n",
        "def test(epoch):\n",
        "\n",
        "  model.eval()\n",
        "\n",
        "  test_loss = 0\n",
        "  with torch.no_grad():\n",
        "    for batch_idx , (image,_) in enumerate(test_loader):\n",
        "      images = image.to(device)\n",
        "      reconstructed , mu , logvar = model(images)\n",
        "      test_loss += loss_function(reconstructed, images , mu , logvar).item()\n",
        "      if batch_idx == 0:\n",
        "        comparison = torch.cat([images[:5],reconstructed.view(batch_size, 1,28,28)[:5]])\n",
        "        save_image(comparison.cpu(), \"results/reconstructed_\"+ str(epoch)+ \".png\",nrow=5)\n",
        "\n",
        "\n",
        "  print(\"===> average test loss: {:.3f}\".format(test_loss/len(test_loader.dataset)))\n",
        "\n"
      ],
      "metadata": {
        "id": "WOUI499Fnu8X"
      },
      "execution_count": null,
      "outputs": []
    },
    {
      "cell_type": "code",
      "source": [
        "for epoch in range(1, epochs+ 1):\n",
        "  train(epoch)\n",
        "  test(epoch)\n",
        "  with torch.no_grad():\n",
        "    sample = torch.randn(64,20).to(device)\n",
        "    gemerated = model.decode(sample).cpu()\n",
        "    save_image(gemerated.view(64,1,28,28),\"results/sample_\"+str(epoch)+\".png\")\n",
        "\n",
        "  "
      ],
      "metadata": {
        "id": "X19NTDzmr0m_"
      },
      "execution_count": null,
      "outputs": []
    }
  ]
}